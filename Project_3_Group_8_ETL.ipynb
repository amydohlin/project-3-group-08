{
 "cells": [
  {
   "cell_type": "code",
   "execution_count": null,
   "metadata": {},
   "outputs": [],
   "source": [
    "#Import dependencies \n",
    "import pandas as pd\n",
    "import numpy as np\n",
    "pd.set_option('max_colwidth', 400)"
   ]
  },
  {
   "cell_type": "markdown",
   "metadata": {},
   "source": [
    "Extract the Data"
   ]
  },
  {
   "cell_type": "code",
   "execution_count": null,
   "metadata": {},
   "outputs": [],
   "source": [
    "#Read the Shark Tank data into a dataframe\n",
    "sharktank_df = pd.read_csv('shark_tank_raw_data/Shark Tank US dataset.csv')\n",
    "sharktank_df.head()\n"
   ]
  },
  {
   "cell_type": "markdown",
   "metadata": {},
   "source": [
    "Perform initial data cleaning"
   ]
  },
  {
   "cell_type": "code",
   "execution_count": null,
   "metadata": {},
   "outputs": [],
   "source": [
    "sharktank_df.info()"
   ]
  },
  {
   "cell_type": "code",
   "execution_count": null,
   "metadata": {},
   "outputs": [],
   "source": [
    "sharktank_df.columns"
   ]
  },
  {
   "cell_type": "code",
   "execution_count": null,
   "metadata": {},
   "outputs": [],
   "source": [
    "#remove unneccesary columns\n",
    "sharktank_df_clean = sharktank_df[['Season Number', 'Startup Name', 'Episode Number', 'Pitch Number',\n",
    "       'Original Air Date', 'Industry',\n",
    "       'Business Description', 'Company Website', 'Pitchers Gender',\n",
    "       'Pitchers City', 'Pitchers State', 'Entrepreneur Names', 'Multiple Entrepreneurs',\n",
    "       'Original Ask Amount', 'Original Offered Equity', 'Valuation Requested',\n",
    "       'Got Deal', 'Total Deal Amount', 'Total Deal Equity', 'Deal Valuation',\n",
    "       'Number of Sharks in Deal', 'Investment Amount Per Shark',\n",
    "       'Equity Per Shark', 'Barbara Corcoran Investment Amount',\n",
    "       'Barbara Corcoran Investment Equity', 'Mark Cuban Investment Amount',\n",
    "       'Mark Cuban Investment Equity', 'Lori Greiner Investment Amount',\n",
    "       'Lori Greiner Investment Equity', 'Robert Herjavec Investment Amount',\n",
    "       'Robert Herjavec Investment Equity', 'Daymond John Investment Amount',\n",
    "       'Daymond John Investment Equity', 'Kevin O Leary Investment Amount',\n",
    "       'Kevin O Leary Investment Equity', 'Guest Investment Amount',\n",
    "       'Guest Investment Equity', 'Guest Name', 'Barbara Corcoran Present',\n",
    "       'Mark Cuban Present', 'Lori Greiner Present', 'Robert Herjavec Present',\n",
    "       'Daymond John Present', 'Kevin O Leary Present', 'Guest Present']]\n",
    "\n",
    "sharktank_df_clean.head()"
   ]
  },
  {
   "cell_type": "code",
   "execution_count": null,
   "metadata": {},
   "outputs": [],
   "source": [
    "#transform dates to dt format\n",
    "sharktank_df_clean['Original Air Date'] = pd.to_datetime(sharktank_df_clean['Original Air Date'], format='%d-%b-%y')\n"
   ]
  },
  {
   "cell_type": "code",
   "execution_count": null,
   "metadata": {},
   "outputs": [],
   "source": [
    "#check that dates converted correctly\n",
    "sharktank_df_clean.head()"
   ]
  },
  {
   "cell_type": "code",
   "execution_count": null,
   "metadata": {},
   "outputs": [],
   "source": [
    "#transform 1 and 0 values to boolean\n",
    "sharktank_df_clean[['Got Deal', \n",
    "                    'Barbara Corcoran Present', \n",
    "                    'Mark Cuban Present', \n",
    "                    'Lori Greiner Present', \n",
    "                    'Robert Herjavec Present', \n",
    "                    'Daymond John Present',\n",
    "                    'Kevin O Leary Present', \n",
    "                    'Guest Present']] = sharktank_df_clean[['Got Deal',\n",
    "                                                            'Barbara Corcoran Present', \n",
    "                                                            'Mark Cuban Present', \n",
    "                                                            'Lori Greiner Present', \n",
    "                                                            'Robert Herjavec Present', \n",
    "                                                            'Daymond John Present', \n",
    "                                                            'Kevin O Leary Present', \n",
    "                                                            'Guest Present']].astype('bool')"
   ]
  },
  {
   "cell_type": "code",
   "execution_count": null,
   "metadata": {},
   "outputs": [],
   "source": [
    "#check that values converted to boolean correctly\n",
    "sharktank_df_clean.head()"
   ]
  },
  {
   "cell_type": "markdown",
   "metadata": {},
   "source": [
    "Pitchers Demographics Table Cleaning (Anna)"
   ]
  },
  {
   "cell_type": "code",
   "execution_count": null,
   "metadata": {},
   "outputs": [],
   "source": []
  },
  {
   "cell_type": "code",
   "execution_count": null,
   "metadata": {},
   "outputs": [],
   "source": []
  },
  {
   "cell_type": "code",
   "execution_count": null,
   "metadata": {},
   "outputs": [],
   "source": []
  },
  {
   "cell_type": "code",
   "execution_count": null,
   "metadata": {},
   "outputs": [],
   "source": []
  },
  {
   "cell_type": "code",
   "execution_count": null,
   "metadata": {},
   "outputs": [],
   "source": []
  },
  {
   "cell_type": "code",
   "execution_count": null,
   "metadata": {},
   "outputs": [],
   "source": []
  },
  {
   "cell_type": "code",
   "execution_count": null,
   "metadata": {},
   "outputs": [],
   "source": []
  },
  {
   "cell_type": "code",
   "execution_count": null,
   "metadata": {},
   "outputs": [],
   "source": []
  },
  {
   "cell_type": "code",
   "execution_count": null,
   "metadata": {},
   "outputs": [],
   "source": []
  },
  {
   "cell_type": "code",
   "execution_count": null,
   "metadata": {},
   "outputs": [],
   "source": []
  },
  {
   "cell_type": "markdown",
   "metadata": {},
   "source": [
    "Shark Demogrpahics Table Cleaning (Atul)"
   ]
  },
  {
   "cell_type": "code",
   "execution_count": null,
   "metadata": {},
   "outputs": [],
   "source": []
  },
  {
   "cell_type": "code",
   "execution_count": null,
   "metadata": {},
   "outputs": [],
   "source": []
  },
  {
   "cell_type": "code",
   "execution_count": null,
   "metadata": {},
   "outputs": [],
   "source": []
  },
  {
   "cell_type": "code",
   "execution_count": null,
   "metadata": {},
   "outputs": [],
   "source": []
  },
  {
   "cell_type": "code",
   "execution_count": null,
   "metadata": {},
   "outputs": [],
   "source": []
  },
  {
   "cell_type": "code",
   "execution_count": null,
   "metadata": {},
   "outputs": [],
   "source": []
  },
  {
   "cell_type": "code",
   "execution_count": null,
   "metadata": {},
   "outputs": [],
   "source": []
  },
  {
   "cell_type": "code",
   "execution_count": null,
   "metadata": {},
   "outputs": [],
   "source": []
  },
  {
   "cell_type": "code",
   "execution_count": null,
   "metadata": {},
   "outputs": [],
   "source": []
  },
  {
   "cell_type": "code",
   "execution_count": null,
   "metadata": {},
   "outputs": [],
   "source": []
  },
  {
   "cell_type": "markdown",
   "metadata": {},
   "source": [
    "Pitch Info Table Cleaning (Tianyue)"
   ]
  },
  {
   "cell_type": "code",
   "execution_count": null,
   "metadata": {},
   "outputs": [],
   "source": [
    "sharktank_df_clean.info()"
   ]
  },
  {
   "cell_type": "code",
   "execution_count": null,
   "metadata": {},
   "outputs": [],
   "source": [
    "# Sharks Demographic\n",
    "Shark_Name = sharktank_df_clean[\"Guest Name\"].dropna().unique()\n",
    "sharks_demographic_df = pd.DataFrame({'Shark_Name':Shark_Name})\n",
    "# sharks_demographic_df.index.name=\"Shark_ID\"\n",
    "sharks_demographic_df.reset_index(inplace=True)\n",
    "sharks_demographic_df = sharks_demographic_df.rename(columns={'index': 'Shark_ID'})\n",
    "\n",
    "# gender =  {'Gender':{'M','M','M','M','M','M','M','M','M','M','M','F','F','F','M','M','M','M','F','F','F','M','F','M','F','M','F','F','M','F','M','F','M','M',}}\n",
    "# Data discrepancy: 26 Nirav Tolia; 27\tNirv Tolia\n",
    "\n",
    "\n",
    "\n",
    "sharks_demographic_df.loc[27, 'Shark_Name'] = \"Nirav Tolia\"\n",
    "# sharks_demographic_df = \n",
    "sharks_demographic_df[\"Shark_Name\"].drop_duplicates()\n",
    "# sharks_demographic_df['Shark_ID'] = range(1, len(sharks_demographic_df) + 1)\n",
    "\n",
    "sharks_demographic_df\n",
    "\n",
    "# deal_df.loc[row_index, 'column_name'] = new_value\n"
   ]
  },
  {
   "cell_type": "code",
   "execution_count": null,
   "metadata": {},
   "outputs": [],
   "source": [
    "# Randomly assign genders to sharks: 'M' for male or 'F' for female\n",
    "# For reproducibility, we can get the same random assignment each time you run this\n",
    "# np.random.seed(0)\n",
    "# sharks_demographic_df['Gender'] = np.random.choice(['Male', 'Female'], size=len(sharks_demographic_df))\n",
    "gender =  ['Male','Male','Male','Male','Male','Male','Male','Male','Male','Male','Male','Female','Female','Female','Male','Male','Male','Male','Female','Female','Female','Male','Female','Male','Female','Male','Female','Female','Male','Female','Male','Female','Male','Male']\n",
    "sharks_demographic_df['Gender'] = gender\n",
    "sharks_demographic_df"
   ]
  },
  {
   "cell_type": "code",
   "execution_count": null,
   "metadata": {},
   "outputs": [],
   "source": [
    "# Creating a dataframe for Deal Info:\n",
    "deal_df = sharktank_df_clean[[ 'Pitch Number','Got Deal','Total Deal Amount','Total Deal Equity','Original Offered Equity','Valuation Requested', 'Deal Valuation','Investment Amount Per Shark', 'Equity Per Shark','Number of Sharks in Deal', 'Barbara Corcoran Investment Amount',\n",
    "                    'Barbara Corcoran Investment Equity', 'Mark Cuban Investment Amount','Mark Cuban Investment Equity', 'Lori Greiner Investment Amount','Lori Greiner Investment Equity', \n",
    "                    'Robert Herjavec Investment Amount', 'Robert Herjavec Investment Equity','Daymond John Investment Amount','Daymond John Investment Equity', 'Kevin O Leary Investment Amount',\n",
    "                    'Kevin O Leary Investment Equity', 'Guest Investment Amount', 'Guest Investment Equity']]\n",
    " \n",
    "\n",
    "deal_df.columns = deal_df.columns.str.replace(' ', '_')\n",
    "deal_df['Deal_ID'] = range(1, len(deal_df) + 1)\n",
    "deal_df.head(20)\n"
   ]
  },
  {
   "cell_type": "code",
   "execution_count": null,
   "metadata": {},
   "outputs": [],
   "source": [
    "numeric_columns = deal_df.select_dtypes(include=['float64', 'int64'])\n",
    "deal_df[numeric_columns.columns] = numeric_columns.fillna(0)\n",
    "deal_df.head()\n"
   ]
  },
  {
   "cell_type": "code",
   "execution_count": null,
   "metadata": {},
   "outputs": [],
   "source": [
    "# Use case 1: Filter for successful deals and merge with \"Pitch_df\" to create visualizations\n",
    "# Ex. Use Pitch_Number, Total_Deal_Amount, Total_Deal_Equity, Industry\n",
    "deal_y_df = deal_df[deal_df['Got_Deal']==True]\n",
    "deal_y_df\n",
    "\n",
    "\n",
    "pitch_deal_merge_df = pd.merge(deal_y_df, pitch_demo, on=\"Pitch_Number\", how=\"outer\")\n",
    "pitch_deal_merge_df"
   ]
  },
  {
   "cell_type": "code",
   "execution_count": null,
   "metadata": {},
   "outputs": [],
   "source": [
    "# deal_df.to_csv(\"deal_df.csv\", index=False)\n",
    "# Only run when exporting"
   ]
  },
  {
   "cell_type": "code",
   "execution_count": null,
   "metadata": {},
   "outputs": [],
   "source": [
    "deal_df.count()"
   ]
  },
  {
   "cell_type": "code",
   "execution_count": null,
   "metadata": {},
   "outputs": [],
   "source": [
    "deal_df.dropna().count()"
   ]
  },
  {
   "cell_type": "code",
   "execution_count": null,
   "metadata": {},
   "outputs": [],
   "source": [
    "deal_df1 = deal_df[~deal_df.Total_Deal_Amount.isnull()].set_index('Pitch_Number')\n",
    "deal_df1.count()   \n",
    "deal_df1.head()"
   ]
  },
  {
   "cell_type": "code",
   "execution_count": null,
   "metadata": {},
   "outputs": [],
   "source": []
  },
  {
   "cell_type": "code",
   "execution_count": null,
   "metadata": {},
   "outputs": [],
   "source": [
    "deal_df1.Barbara_Corcoran_Investment_Amount.dropna().sort_values(ascending=False)[:10].plot.bar(figsize=[16,4],rot=90)"
   ]
  },
  {
   "cell_type": "code",
   "execution_count": null,
   "metadata": {},
   "outputs": [],
   "source": [
    "deal_df1.Barbara_Corcoran_Investment_Equity.dropna().sort_values(ascending=False)[:10].plot.bar(figsize=[16,4],rot=90)"
   ]
  },
  {
   "cell_type": "code",
   "execution_count": null,
   "metadata": {},
   "outputs": [],
   "source": [
    "deal_df1.Mark_Cuban_Investment_Amount.dropna().sort_values(ascending=False)[:10].plot.bar(figsize=[16,4],rot=90)\n"
   ]
  },
  {
   "cell_type": "code",
   "execution_count": null,
   "metadata": {},
   "outputs": [],
   "source": [
    "deal_df1.Mark_Cuban_Investment_Equity.dropna().sort_values(ascending=False)[:10].plot.bar(figsize=[16,4],rot=90)\n"
   ]
  },
  {
   "cell_type": "code",
   "execution_count": null,
   "metadata": {},
   "outputs": [],
   "source": [
    "#Creating a dataframe for Pitch Info: \n",
    "pitch_df= sharktank_df_clean[['Pitch Number', 'Episode Number', 'Season Number','Business Description', 'Got Deal']]\n",
    "pitch_df.columns = pitch_df.columns.str.replace(' ', '_')\n",
    "pitch_df.head()"
   ]
  },
  {
   "cell_type": "code",
   "execution_count": null,
   "metadata": {},
   "outputs": [],
   "source": [
    "# pitch_df.to_csv(\"pitch_df.csv\", index=False)\n",
    "# Only run when exporting"
   ]
  },
  {
   "cell_type": "code",
   "execution_count": null,
   "metadata": {},
   "outputs": [],
   "source": []
  },
  {
   "cell_type": "code",
   "execution_count": null,
   "metadata": {},
   "outputs": [],
   "source": []
  },
  {
   "cell_type": "code",
   "execution_count": null,
   "metadata": {},
   "outputs": [],
   "source": []
  },
  {
   "cell_type": "code",
   "execution_count": null,
   "metadata": {},
   "outputs": [],
   "source": []
  },
  {
   "cell_type": "code",
   "execution_count": null,
   "metadata": {},
   "outputs": [],
   "source": []
  },
  {
   "cell_type": "code",
   "execution_count": null,
   "metadata": {},
   "outputs": [],
   "source": []
  },
  {
   "cell_type": "code",
   "execution_count": null,
   "metadata": {},
   "outputs": [],
   "source": []
  }
 ],
 "metadata": {
  "kernelspec": {
   "display_name": "dev",
   "language": "python",
   "name": "python3"
  },
  "language_info": {
   "codemirror_mode": {
    "name": "ipython",
    "version": 3
   },
   "file_extension": ".py",
   "mimetype": "text/x-python",
   "name": "python",
   "nbconvert_exporter": "python",
   "pygments_lexer": "ipython3",
   "version": "3.10.13"
  }
 },
 "nbformat": 4,
 "nbformat_minor": 2
}
