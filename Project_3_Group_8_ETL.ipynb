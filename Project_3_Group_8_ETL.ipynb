{
 "cells": [
  {
   "cell_type": "code",
   "execution_count": null,
   "metadata": {},
   "outputs": [],
   "source": [
    "#Import dependencies \n",
    "import pandas as pd\n",
    "import numpy as np\n",
    "pd.set_option('max_colwidth', 400)"
   ]
  },
  {
   "cell_type": "markdown",
   "metadata": {},
   "source": [
    "Extract the Data"
   ]
  },
  {
   "cell_type": "code",
   "execution_count": null,
   "metadata": {},
   "outputs": [],
   "source": [
    "#Read the Shark Tank data into a dataframe\n",
    "sharktank_df = pd.read_csv('shark_tank_raw_data/Shark Tank US dataset.csv')\n",
    "sharktank_df.head()\n"
   ]
  },
  {
   "cell_type": "markdown",
   "metadata": {},
   "source": [
    "Perform initial data cleaning"
   ]
  },
  {
   "cell_type": "code",
   "execution_count": null,
   "metadata": {},
   "outputs": [],
   "source": [
    "sharktank_df.info()"
   ]
  },
  {
   "cell_type": "code",
   "execution_count": null,
   "metadata": {},
   "outputs": [],
   "source": [
    "sharktank_df.columns"
   ]
  },
  {
   "cell_type": "code",
   "execution_count": null,
   "metadata": {},
   "outputs": [],
   "source": [
    "#remove unneccesary columns\n",
    "sharktank_df_clean = sharktank_df[['Season Number', 'Startup Name', 'Episode Number', 'Pitch Number',\n",
    "       'Original Air Date', 'Industry',\n",
    "       'Business Description', 'Company Website', 'Pitchers Gender',\n",
    "       'Pitchers City', 'Pitchers State', 'Entrepreneur Names', 'Multiple Entrepreneurs',\n",
    "       'Original Ask Amount', 'Original Offered Equity', 'Valuation Requested',\n",
    "       'Got Deal', 'Total Deal Amount', 'Total Deal Equity', 'Deal Valuation',\n",
    "       'Number of Sharks in Deal', 'Investment Amount Per Shark',\n",
    "       'Equity Per Shark', 'Barbara Corcoran Investment Amount',\n",
    "       'Barbara Corcoran Investment Equity', 'Mark Cuban Investment Amount',\n",
    "       'Mark Cuban Investment Equity', 'Lori Greiner Investment Amount',\n",
    "       'Lori Greiner Investment Equity', 'Robert Herjavec Investment Amount',\n",
    "       'Robert Herjavec Investment Equity', 'Daymond John Investment Amount',\n",
    "       'Daymond John Investment Equity', 'Kevin O Leary Investment Amount',\n",
    "       'Kevin O Leary Investment Equity', 'Guest Investment Amount',\n",
    "       'Guest Investment Equity', 'Guest Name', 'Barbara Corcoran Present',\n",
    "       'Mark Cuban Present', 'Lori Greiner Present', 'Robert Herjavec Present',\n",
    "       'Daymond John Present', 'Kevin O Leary Present', 'Guest Present']]\n",
    "\n",
    "sharktank_df_clean.head()"
   ]
  },
  {
   "cell_type": "code",
   "execution_count": null,
   "metadata": {},
   "outputs": [],
   "source": [
    "#transform dates to dt format\n",
    "sharktank_df_clean['Original Air Date'] = pd.to_datetime(sharktank_df_clean['Original Air Date'], format='%d-%b-%y')\n"
   ]
  },
  {
   "cell_type": "code",
   "execution_count": null,
   "metadata": {},
   "outputs": [],
   "source": [
    "#check that dates converted correctly\n",
    "sharktank_df_clean.head()"
   ]
  },
  {
   "cell_type": "code",
   "execution_count": null,
   "metadata": {},
   "outputs": [],
   "source": [
    "#transform 1 and 0 values to boolean\n",
    "sharktank_df_clean[['Got Deal', \n",
    "                    'Barbara Corcoran Present', \n",
    "                    'Mark Cuban Present', \n",
    "                    'Lori Greiner Present', \n",
    "                    'Robert Herjavec Present', \n",
    "                    'Daymond John Present',\n",
    "                    'Kevin O Leary Present', \n",
    "                    'Guest Present']] = sharktank_df_clean[['Got Deal',\n",
    "                                                            'Barbara Corcoran Present', \n",
    "                                                            'Mark Cuban Present', \n",
    "                                                            'Lori Greiner Present', \n",
    "                                                            'Robert Herjavec Present', \n",
    "                                                            'Daymond John Present', \n",
    "                                                            'Kevin O Leary Present', \n",
    "                                                            'Guest Present']].astype('bool')"
   ]
  },
  {
   "cell_type": "code",
   "execution_count": null,
   "metadata": {},
   "outputs": [],
   "source": [
    "#check that values converted to boolean correctly\n",
    "sharktank_df_clean.head()"
   ]
  },
  {
   "cell_type": "markdown",
   "metadata": {},
   "source": [
    "Pitchers Demographics Table Cleaning (Anna)"
   ]
  },
  {
   "cell_type": "code",
   "execution_count": null,
   "metadata": {},
   "outputs": [],
   "source": []
  },
  {
   "cell_type": "code",
   "execution_count": null,
   "metadata": {},
   "outputs": [],
   "source": []
  },
  {
   "cell_type": "code",
   "execution_count": null,
   "metadata": {},
   "outputs": [],
   "source": []
  },
  {
   "cell_type": "code",
   "execution_count": null,
   "metadata": {},
   "outputs": [],
   "source": []
  },
  {
   "cell_type": "code",
   "execution_count": null,
   "metadata": {},
   "outputs": [],
   "source": []
  },
  {
   "cell_type": "code",
   "execution_count": null,
   "metadata": {},
   "outputs": [],
   "source": []
  },
  {
   "cell_type": "code",
   "execution_count": null,
   "metadata": {},
   "outputs": [],
   "source": []
  },
  {
   "cell_type": "code",
   "execution_count": null,
   "metadata": {},
   "outputs": [],
   "source": []
  },
  {
   "cell_type": "code",
   "execution_count": null,
   "metadata": {},
   "outputs": [],
   "source": []
  },
  {
   "cell_type": "code",
   "execution_count": null,
   "metadata": {},
   "outputs": [],
   "source": []
  },
  {
   "cell_type": "markdown",
   "metadata": {},
   "source": [
    "Shark Demogrpahics Table Cleaning (Atul)"
   ]
  },
  {
   "cell_type": "code",
   "execution_count": null,
   "metadata": {},
   "outputs": [],
   "source": []
  },
  {
   "cell_type": "code",
   "execution_count": null,
   "metadata": {},
   "outputs": [],
   "source": []
  },
  {
   "cell_type": "code",
   "execution_count": null,
   "metadata": {},
   "outputs": [],
   "source": []
  },
  {
   "cell_type": "code",
   "execution_count": null,
   "metadata": {},
   "outputs": [],
   "source": []
  },
  {
   "cell_type": "code",
   "execution_count": null,
   "metadata": {},
   "outputs": [],
   "source": []
  },
  {
   "cell_type": "code",
   "execution_count": null,
   "metadata": {},
   "outputs": [],
   "source": []
  },
  {
   "cell_type": "code",
   "execution_count": null,
   "metadata": {},
   "outputs": [],
   "source": []
  },
  {
   "cell_type": "code",
   "execution_count": null,
   "metadata": {},
   "outputs": [],
   "source": []
  },
  {
   "cell_type": "code",
   "execution_count": null,
   "metadata": {},
   "outputs": [],
   "source": []
  },
  {
   "cell_type": "code",
   "execution_count": null,
   "metadata": {},
   "outputs": [],
   "source": []
  },
  {
   "cell_type": "markdown",
   "metadata": {},
   "source": [
    "Pitch Info Table Cleaning (Tianyue)"
   ]
  },
  {
   "cell_type": "code",
   "execution_count": null,
   "metadata": {},
   "outputs": [],
   "source": [
    "sharktank_df_clean.info()"
   ]
  },
  {
   "cell_type": "code",
   "execution_count": null,
   "metadata": {},
   "outputs": [],
   "source": [
    "# Creating a dataframe for Deal Info:\n",
    "deal_df = sharktank_df_clean[[ 'Pitch Number','Total Deal Amount','Total Deal Equity','Original Offered Equity','Valuation Requested', 'Deal Valuation','Investment Amount Per Shark', 'Equity Per Shark','Number of Sharks in Deal', 'Barbara Corcoran Investment Amount',\n",
    "                    'Barbara Corcoran Investment Equity', 'Mark Cuban Investment Amount','Mark Cuban Investment Equity', 'Lori Greiner Investment Amount','Lori Greiner Investment Equity', \n",
    "                    'Robert Herjavec Investment Amount', 'Robert Herjavec Investment Equity','Daymond John Investment Amount','Daymond John Investment Equity', 'Kevin O Leary Investment Amount',\n",
    "                    'Kevin O Leary Investment Equity', 'Guest Investment Amount', 'Guest Investment Equity']]\n",
    " \n",
    "\n",
    "deal_df.columns = deal_df.columns.str.replace(' ', '_')\n",
    "# deal_df['Deal_Amout_Dif'] = deal_df['']\n",
    "# deal_df['Deal_Equity_Dif']\n",
    "deal_df.head()\n",
    "# May add sharks' ID if unique key available in shark_df\n",
    "\n",
    "# Narrow down on columns"
   ]
  },
  {
   "cell_type": "code",
   "execution_count": null,
   "metadata": {},
   "outputs": [],
   "source": [
    "# deal_df.to_csv(\"deal_df.csv\", index=False)\n",
    "# don't run again"
   ]
  },
  {
   "cell_type": "code",
   "execution_count": null,
   "metadata": {},
   "outputs": [],
   "source": [
    "deal_df.count()"
   ]
  },
  {
   "cell_type": "code",
   "execution_count": null,
   "metadata": {},
   "outputs": [],
   "source": [
    "deal_df.dropna().count()"
   ]
  },
  {
   "cell_type": "code",
   "execution_count": null,
   "metadata": {},
   "outputs": [],
   "source": [
    "deal_df1 = deal_df[~deal_df.Total_Deal_Amount.isnull()].set_index('Pitch_Number')\n",
    "deal_df1.count()"
   ]
  },
  {
   "cell_type": "code",
   "execution_count": null,
   "metadata": {},
   "outputs": [],
   "source": [
    "deal_df1.Barbara_Corcoran_Investment_Amount.dropna().sort_values(ascending=False)[:10].plot.bar(figsize=[16,4],rot=90)"
   ]
  },
  {
   "cell_type": "code",
   "execution_count": null,
   "metadata": {},
   "outputs": [],
   "source": [
    "#Creating a dataframe for Pitch Info: \n",
    "pitch_df= sharktank_df_clean[['Pitch Number', 'Episode Number', 'Season Number','Business Description', 'Got Deal']]\n",
    "pitch_df.columns = pitch_df.columns.str.replace(' ', '_')\n",
    "pitch_df.head()"
   ]
  },
  {
   "cell_type": "code",
   "execution_count": null,
   "metadata": {},
   "outputs": [],
   "source": [
    "# pitch_df.to_csv(\"pitch_df.csv\", index=False)\n",
    "# don't run again\n"
   ]
  },
  {
   "cell_type": "code",
   "execution_count": null,
   "metadata": {},
   "outputs": [],
   "source": []
  },
  {
   "cell_type": "code",
   "execution_count": null,
   "metadata": {},
   "outputs": [],
   "source": []
  },
  {
   "cell_type": "code",
   "execution_count": null,
   "metadata": {},
   "outputs": [],
   "source": []
  },
  {
   "cell_type": "code",
   "execution_count": null,
   "metadata": {},
   "outputs": [],
   "source": []
  },
  {
   "cell_type": "code",
   "execution_count": null,
   "metadata": {},
   "outputs": [],
   "source": []
  },
  {
   "cell_type": "code",
   "execution_count": null,
   "metadata": {},
   "outputs": [],
   "source": []
  },
  {
   "cell_type": "code",
   "execution_count": null,
   "metadata": {},
   "outputs": [],
   "source": []
  }
 ],
 "metadata": {
  "kernelspec": {
   "display_name": "dev",
   "language": "python",
   "name": "python3"
  },
  "language_info": {
   "codemirror_mode": {
    "name": "ipython",
    "version": 3
   },
   "file_extension": ".py",
   "mimetype": "text/x-python",
   "name": "python",
   "nbconvert_exporter": "python",
   "pygments_lexer": "ipython3",
   "version": "3.10.13"
  }
 },
 "nbformat": 4,
 "nbformat_minor": 2
}
