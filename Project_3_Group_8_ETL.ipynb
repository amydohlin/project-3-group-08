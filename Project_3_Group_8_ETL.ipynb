{
 "cells": [
  {
   "cell_type": "code",
   "execution_count": null,
   "metadata": {},
   "outputs": [],
   "source": [
    "#Import dependencies \n",
    "import pandas as pd\n",
    "import numpy as np\n",
    "pd.set_option('max_colwidth', 400)"
   ]
  },
  {
   "cell_type": "markdown",
   "metadata": {},
   "source": [
    "Extract the Data"
   ]
  },
  {
   "cell_type": "code",
   "execution_count": null,
   "metadata": {},
   "outputs": [],
   "source": [
    "#Read the Shark Tank data into a dataframe\n",
    "sharktank_df = pd.read_csv('shark_tank_raw_data/Shark Tank US dataset.csv')\n",
    "sharktank_df.head()\n"
   ]
  },
  {
   "cell_type": "markdown",
   "metadata": {},
   "source": [
    "Perform initial data cleaning"
   ]
  },
  {
   "cell_type": "code",
   "execution_count": null,
   "metadata": {},
   "outputs": [],
   "source": [
    "sharktank_df.info()"
   ]
  },
  {
   "cell_type": "code",
   "execution_count": null,
   "metadata": {},
   "outputs": [],
   "source": [
    "sharktank_df.columns"
   ]
  },
  {
   "cell_type": "code",
   "execution_count": null,
   "metadata": {},
   "outputs": [],
   "source": [
    "#remove unneccesary columns\n",
    "sharktank_df_clean = sharktank_df[['Season Number', 'Startup Name', 'Episode Number', 'Pitch Number',\n",
    "       'Original Air Date', 'Industry',\n",
    "       'Business Description', 'Company Website', 'Pitchers Gender',\n",
    "       'Pitchers City', 'Pitchers State', 'Entrepreneur Names', 'Multiple Entrepreneurs',\n",
    "       'Original Ask Amount', 'Original Offered Equity', 'Valuation Requested',\n",
    "       'Got Deal', 'Total Deal Amount', 'Total Deal Equity', 'Deal Valuation',\n",
    "       'Number of Sharks in Deal', 'Investment Amount Per Shark',\n",
    "       'Equity Per Shark', 'Barbara Corcoran Investment Amount',\n",
    "       'Barbara Corcoran Investment Equity', 'Mark Cuban Investment Amount',\n",
    "       'Mark Cuban Investment Equity', 'Lori Greiner Investment Amount',\n",
    "       'Lori Greiner Investment Equity', 'Robert Herjavec Investment Amount',\n",
    "       'Robert Herjavec Investment Equity', 'Daymond John Investment Amount',\n",
    "       'Daymond John Investment Equity', 'Kevin O Leary Investment Amount',\n",
    "       'Kevin O Leary Investment Equity', 'Guest Investment Amount',\n",
    "       'Guest Investment Equity', 'Guest Name', 'Barbara Corcoran Present',\n",
    "       'Mark Cuban Present', 'Lori Greiner Present', 'Robert Herjavec Present',\n",
    "       'Daymond John Present', 'Kevin O Leary Present', 'Guest Present']]\n",
    "\n",
    "sharktank_df_clean.head()"
   ]
  },
  {
   "cell_type": "code",
   "execution_count": null,
   "metadata": {},
   "outputs": [],
   "source": [
    "#transform dates to dt format\n",
    "sharktank_df_clean['Original Air Date'] = pd.to_datetime(sharktank_df_clean['Original Air Date'], format='%d-%b-%y')\n"
   ]
  },
  {
   "cell_type": "code",
   "execution_count": null,
   "metadata": {},
   "outputs": [],
   "source": [
    "#check that dates converted correctly\n",
    "sharktank_df_clean.head()"
   ]
  },
  {
   "cell_type": "code",
   "execution_count": null,
   "metadata": {},
   "outputs": [],
   "source": [
    "#transform 1 and 0 values to boolean\n",
    "sharktank_df_clean[['Got Deal', \n",
    "                    'Barbara Corcoran Present', \n",
    "                    'Mark Cuban Present', \n",
    "                    'Lori Greiner Present', \n",
    "                    'Robert Herjavec Present', \n",
    "                    'Daymond John Present',\n",
    "                    'Kevin O Leary Present', \n",
    "                    'Guest Present']] = sharktank_df_clean[['Got Deal',\n",
    "                                                            'Barbara Corcoran Present', \n",
    "                                                            'Mark Cuban Present', \n",
    "                                                            'Lori Greiner Present', \n",
    "                                                            'Robert Herjavec Present', \n",
    "                                                            'Daymond John Present', \n",
    "                                                            'Kevin O Leary Present', \n",
    "                                                            'Guest Present']].astype('bool')"
   ]
  },
  {
   "cell_type": "code",
   "execution_count": null,
   "metadata": {},
   "outputs": [],
   "source": [
    "#check that values converted to boolean correctly\n",
    "sharktank_df_clean.head()"
   ]
  },
  {
   "cell_type": "markdown",
   "metadata": {},
   "source": [
    "Pitchers Demographics Table Cleaning (Anna)"
   ]
  },
  {
   "cell_type": "code",
   "execution_count": null,
   "metadata": {},
   "outputs": [],
   "source": [
    "#Create the pitcher demographics table from the cleaned sharktank df\n",
    "#Reorder the column names\n",
    "pitcher_demo_df = sharktank_df_clean[[\"Pitch Number\",\n",
    "                                    \"Multiple Entrepreneurs\", \n",
    "                                    \"Entrepreneur Names\",\n",
    "                                    \"Pitchers Gender\",\n",
    "                                    \"Pitchers City\",\n",
    "                                    \"Pitchers State\",\n",
    "                                    \"Industry\"]]\n",
    "\n",
    "pitcher_demo_df.head()"
   ]
  },
  {
   "cell_type": "code",
   "execution_count": null,
   "metadata": {},
   "outputs": [],
   "source": [
    "#change the multiple entrepreneurs column to boolean\n",
    "pitcher_demo_df[\"Multiple Entrepreneurs\"] = pitcher_demo_df[\"Multiple Entrepreneurs\"].astype('bool')\n",
    "\n",
    "pitcher_demo_df.head()"
   ]
  },
  {
   "cell_type": "code",
   "execution_count": null,
   "metadata": {},
   "outputs": [],
   "source": [
    "# replace any null values in the Entrepreneur Names, Gender, City, State Columns to \"unknown\"\n",
    "# sources: https://stackoverflow.com/questions/34913590/fillna-in-multiple-columns-in-place-in-python-pandas\n",
    "\n",
    "replace_na_strings = pitcher_demo_df.select_dtypes(object).columns\n",
    "pitcher_demo_df[replace_na_strings] = pitcher_demo_df[replace_na_strings].fillna(\"Unknown\")\n"
   ]
  },
  {
   "cell_type": "code",
   "execution_count": null,
   "metadata": {},
   "outputs": [],
   "source": [
    "# Create a \"Entrepreneur 1 Name\" and \"Entrepreneur 2 Name\" column with the first and last names from the \"name\" column. \n",
    "# Only split columns which have a comma, or an \"and\" to signify multiple pitchers\n",
    "# Code was generated with assistance from Bootcamp Spot Xpert Learning Assistant\n",
    "\n",
    "for index, row in pitcher_demo_df.iterrows():\n",
    "    if \",\" in row[\"Entrepreneur Names\"]:\n",
    "         names = row['Entrepreneur Names'].split(',')\n",
    "         pitcher_demo_df.at[index, 'Entrepreneur 1 Name'] = names[0]\n",
    "         pitcher_demo_df.at[index, 'Entrepreneur 2 Name'] = names[1] if len(names) > 1 else None\n",
    "\n",
    "    elif \"and\" in row[\"Entrepreneur Names\"]:\n",
    "         names = row['Entrepreneur Names'].split('and ')\n",
    "         pitcher_demo_df.at[index, 'Entrepreneur 1 Name'] = names[0]\n",
    "         pitcher_demo_df.at[index, 'Entrepreneur 2 Name'] = names[1] if len(names) > 1 else None\n",
    "\n",
    "    else: pitcher_demo_df.at[index, 'Entrepreneur 1 Name'] = pitcher_demo_df.at[index, 'Entrepreneur Names']\n",
    "\n",
    "\n",
    "pitcher_demo_df.head()"
   ]
  },
  {
   "cell_type": "code",
   "execution_count": null,
   "metadata": {},
   "outputs": [],
   "source": [
    "#fix any instances where multiple enterpreneurs column is incorrectly classified\n",
    "#Source: https://www.programiz.com/python-programming/pandas/handle-wrong-data\n",
    "\n",
    "for row in pitcher_demo_df.index:\n",
    "    multiple_check = pitcher_demo_df.loc[row, \"Entrepreneur 2 Name\"]\n",
    "    if pd.isnull(multiple_check):\n",
    "        pitcher_demo_df.loc[row, \"Multiple Entrepreneurs\"] = False\n",
    "    else: \n",
    "        pitcher_demo_df.loc[row, \"Multiple Entrepreneurs\"] = True\n",
    "\n",
    "pitcher_demo_df.head()\n"
   ]
  },
  {
   "cell_type": "code",
   "execution_count": null,
   "metadata": {},
   "outputs": [],
   "source": [
    "#reorder columns\n",
    "pitcher_demo_df_cleaned = pitcher_demo_df[[\"Pitch Number\", \n",
    "                                   \"Multiple Entrepreneurs\", \n",
    "                                   \"Entrepreneur 1 Name\",\n",
    "                                   \"Entrepreneur 2 Name\",\n",
    "                                    \"Pitchers Gender\",\n",
    "                                    \"Pitchers City\",\n",
    "                                    \"Pitchers State\",\n",
    "                                    \"Industry\"]]\n",
    "\n",
    "#rename columns to simplify\n",
    "pitcher_demo_df_cleaned.rename(columns= {\"Pitchers Gender\":\"Gender(s)\",\n",
    "                                 \"Pitchers City\": \"City\",\n",
    "                                  \"Pitchers State\": \"State\"}, inplace =True)\n",
    "\n",
    "pitcher_demo_df_cleaned.head()"
   ]
  },
  {
   "cell_type": "code",
   "execution_count": null,
   "metadata": {},
   "outputs": [],
   "source": [
    "#Check datatypes and null counts one last time before exporting to CSV\n",
    "#Only Entrepreneur 2 Name should still have null values\n",
    "\n",
    "pitcher_demo_df_cleaned.info()"
   ]
  },
  {
   "cell_type": "code",
   "execution_count": null,
   "metadata": {},
   "outputs": [],
   "source": [
    "pitcher_demo_df_cleaned.to_csv(\"pitch_demo.csv\", encoding = 'utf8', index=False)"
   ]
  },
  {
   "cell_type": "markdown",
   "metadata": {},
   "source": [
    "Pitchers Demographics Table (Data cleaning by Anna Bitzer)\n",
    "\n",
    "A subset of columns from the sharktank_df_clean dataset were used to create a Pitchers Demographics table. Several data cleaning steps were taken to transform and prepare the data for storage in a SQL database.\n",
    " -  The \"Multiple Entrepreneurs\" column datatype was switched to boolean.\n",
    " -  Null values in all string columns (name, gender, city, state, industry) were replaced with \"Unknown.\n",
    " -  The \"Entrepreneur Names\" column, which could contain multiple entrepreneurs, was split into new columns \"Entrepreneur 1 Name\" and \"Entrepreneur 2 Name\", splitting at a comma or the word \"and\". \n",
    " -  Some instances of the \"Multiple Entrepreneurs\" column were found to be incorrect. They were corrected using a conditional that checked if a second entrepreneur was present in the \"Entrepreneur 2 Name\" column.\n",
    " -  Finally, the columns were reorderd and some were renamed.\n",
    "\n",
    "The final dataframe was exported to csv, for upload into a SQL database with the other tables.\n",
    "\n",
    "Sources Used: \n",
    "https://stackoverflow.com/questions/34913590/fillna-in-multiple-columns-in-place-in-python-pandas, https://www.programiz.com/python-programming/pandas/handle-wrong-data, and BootcampSpot Xpert Learning Assistant for formatting itterows code to split names.\n",
    "\n"
   ]
  },
  {
   "cell_type": "markdown",
   "metadata": {},
   "source": [
    "Shark Demogrpahics Table Cleaning (Atul)"
   ]
  },
  {
   "cell_type": "code",
   "execution_count": null,
   "metadata": {},
   "outputs": [],
   "source": []
  },
  {
   "cell_type": "code",
   "execution_count": null,
   "metadata": {},
   "outputs": [],
   "source": []
  },
  {
   "cell_type": "code",
   "execution_count": null,
   "metadata": {},
   "outputs": [],
   "source": []
  },
  {
   "cell_type": "code",
   "execution_count": null,
   "metadata": {},
   "outputs": [],
   "source": []
  },
  {
   "cell_type": "code",
   "execution_count": null,
   "metadata": {},
   "outputs": [],
   "source": []
  },
  {
   "cell_type": "code",
   "execution_count": null,
   "metadata": {},
   "outputs": [],
   "source": []
  },
  {
   "cell_type": "code",
   "execution_count": null,
   "metadata": {},
   "outputs": [],
   "source": []
  },
  {
   "cell_type": "code",
   "execution_count": null,
   "metadata": {},
   "outputs": [],
   "source": []
  },
  {
   "cell_type": "code",
   "execution_count": null,
   "metadata": {},
   "outputs": [],
   "source": []
  },
  {
   "cell_type": "code",
   "execution_count": null,
   "metadata": {},
   "outputs": [],
   "source": []
  },
  {
   "cell_type": "markdown",
   "metadata": {},
   "source": [
    "Pitch Info Table Cleaning (Tianyue)"
   ]
  },
  {
   "cell_type": "code",
   "execution_count": null,
   "metadata": {},
   "outputs": [],
   "source": []
  },
  {
   "cell_type": "code",
   "execution_count": null,
   "metadata": {},
   "outputs": [],
   "source": []
  },
  {
   "cell_type": "code",
   "execution_count": null,
   "metadata": {},
   "outputs": [],
   "source": []
  },
  {
   "cell_type": "code",
   "execution_count": null,
   "metadata": {},
   "outputs": [],
   "source": []
  },
  {
   "cell_type": "code",
   "execution_count": null,
   "metadata": {},
   "outputs": [],
   "source": []
  },
  {
   "cell_type": "code",
   "execution_count": null,
   "metadata": {},
   "outputs": [],
   "source": []
  },
  {
   "cell_type": "code",
   "execution_count": null,
   "metadata": {},
   "outputs": [],
   "source": []
  },
  {
   "cell_type": "code",
   "execution_count": null,
   "metadata": {},
   "outputs": [],
   "source": []
  },
  {
   "cell_type": "code",
   "execution_count": null,
   "metadata": {},
   "outputs": [],
   "source": []
  },
  {
   "cell_type": "code",
   "execution_count": null,
   "metadata": {},
   "outputs": [],
   "source": []
  }
 ],
 "metadata": {
  "kernelspec": {
   "display_name": "dev",
   "language": "python",
   "name": "python3"
  },
  "language_info": {
   "codemirror_mode": {
    "name": "ipython",
    "version": 3
   },
   "file_extension": ".py",
   "mimetype": "text/x-python",
   "name": "python",
   "nbconvert_exporter": "python",
   "pygments_lexer": "ipython3",
   "version": "3.10.13"
  }
 },
 "nbformat": 4,
 "nbformat_minor": 2
}
