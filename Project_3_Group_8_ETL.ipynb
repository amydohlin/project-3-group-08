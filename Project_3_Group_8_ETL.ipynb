{
 "cells": [
  {
   "cell_type": "code",
   "execution_count": null,
   "metadata": {},
   "outputs": [],
   "source": [
    "#Import dependencies \n",
    "import pandas as pd\n",
    "import numpy as np\n",
    "pd.set_option('max_colwidth', 400)"
   ]
  },
  {
   "cell_type": "markdown",
   "metadata": {},
   "source": [
    "Extract the Data"
   ]
  },
  {
   "cell_type": "code",
   "execution_count": null,
   "metadata": {},
   "outputs": [],
   "source": [
    "#Read the Shark Tank data into a dataframe\n",
    "sharktank_df = pd.read_csv('shark_tank_raw_data/Shark Tank US dataset.csv')\n",
    "sharktank_df.head()\n"
   ]
  },
  {
   "cell_type": "markdown",
   "metadata": {},
   "source": [
    "Perform initial data cleaning"
   ]
  },
  {
   "cell_type": "code",
   "execution_count": null,
   "metadata": {},
   "outputs": [],
   "source": [
    "sharktank_df.info()"
   ]
  },
  {
   "cell_type": "code",
   "execution_count": null,
   "metadata": {},
   "outputs": [],
   "source": [
    "sharktank_df.columns"
   ]
  },
  {
   "cell_type": "code",
   "execution_count": null,
   "metadata": {},
   "outputs": [],
   "source": [
    "#remove unneccesary columns\n",
    "sharktank_df_clean = sharktank_df[['Season Number', 'Startup Name', 'Episode Number', 'Pitch Number',\n",
    "       'Original Air Date', 'Industry',\n",
    "       'Business Description', 'Company Website', 'Pitchers Gender',\n",
    "       'Pitchers City', 'Pitchers State', 'Entrepreneur Names', 'Multiple Entrepreneurs',\n",
    "       'Original Ask Amount', 'Original Offered Equity', 'Valuation Requested',\n",
    "       'Got Deal', 'Total Deal Amount', 'Total Deal Equity', 'Deal Valuation',\n",
    "       'Number of Sharks in Deal', 'Investment Amount Per Shark',\n",
    "       'Equity Per Shark', 'Barbara Corcoran Investment Amount',\n",
    "       'Barbara Corcoran Investment Equity', 'Mark Cuban Investment Amount',\n",
    "       'Mark Cuban Investment Equity', 'Lori Greiner Investment Amount',\n",
    "       'Lori Greiner Investment Equity', 'Robert Herjavec Investment Amount',\n",
    "       'Robert Herjavec Investment Equity', 'Daymond John Investment Amount',\n",
    "       'Daymond John Investment Equity', 'Kevin O Leary Investment Amount',\n",
    "       'Kevin O Leary Investment Equity', 'Guest Investment Amount',\n",
    "       'Guest Investment Equity', 'Guest Name', 'Barbara Corcoran Present',\n",
    "       'Mark Cuban Present', 'Lori Greiner Present', 'Robert Herjavec Present',\n",
    "       'Daymond John Present', 'Kevin O Leary Present', 'Guest Present']]\n",
    "\n",
    "sharktank_df_clean.head()"
   ]
  },
  {
   "cell_type": "code",
   "execution_count": null,
   "metadata": {},
   "outputs": [],
   "source": [
    "#transform dates to dt format\n",
    "sharktank_df_clean['Original Air Date'] = pd.to_datetime(sharktank_df_clean['Original Air Date'], format='%d-%b-%y')\n"
   ]
  },
  {
   "cell_type": "code",
   "execution_count": null,
   "metadata": {},
   "outputs": [],
   "source": [
    "#check that dates converted correctly\n",
    "sharktank_df_clean.head()"
   ]
  },
  {
   "cell_type": "code",
   "execution_count": null,
   "metadata": {},
   "outputs": [],
   "source": [
    "#transform 1 and 0 values to boolean\n",
    "sharktank_df_clean[['Got Deal', \n",
    "                    'Barbara Corcoran Present', \n",
    "                    'Mark Cuban Present', \n",
    "                    'Lori Greiner Present', \n",
    "                    'Robert Herjavec Present', \n",
    "                    'Daymond John Present',\n",
    "                    'Kevin O Leary Present', \n",
    "                    'Guest Present']] = sharktank_df_clean[['Got Deal',\n",
    "                                                            'Barbara Corcoran Present', \n",
    "                                                            'Mark Cuban Present', \n",
    "                                                            'Lori Greiner Present', \n",
    "                                                            'Robert Herjavec Present', \n",
    "                                                            'Daymond John Present', \n",
    "                                                            'Kevin O Leary Present', \n",
    "                                                            'Guest Present']].astype('bool')"
   ]
  },
  {
   "cell_type": "code",
   "execution_count": null,
   "metadata": {},
   "outputs": [],
   "source": [
    "#check that values converted to boolean correctly\n",
    "sharktank_df_clean.head()"
   ]
  },
  {
   "cell_type": "code",
   "execution_count": null,
   "metadata": {},
   "outputs": [],
   "source": [
    "# Drop any duplicate values from pitch number (stack overflow https://stackoverflow.com/questions/23667369/drop-all-duplicate-rows-across-multiple-columns-in-python-pandas)\n",
    "sharktank_df_clean.drop_duplicates(subset=['Pitch Number'], keep=False, inplace=True)\n",
    "\n",
    "# Replace any NaN values with \"none\" (Xpert learning assistant)\n",
    "#sharktank_df_clean.fillna(\"none\", inplace=True)\n",
    "\n",
    "sharktank_df_clean.info()"
   ]
  },
  {
   "cell_type": "markdown",
   "metadata": {},
   "source": [
    "Pitchers Demographics Table Cleaning (Anna)"
   ]
  },
  {
   "cell_type": "code",
   "execution_count": null,
   "metadata": {},
   "outputs": [],
   "source": [
    "#Create the pitcher demographics table from the cleaned sharktank df\n",
    "#Reorder the column names\n",
    "pitcher_demo_df = sharktank_df_clean[[\"Pitch Number\",\n",
    "                                    \"Multiple Entrepreneurs\", \n",
    "                                    \"Entrepreneur Names\",\n",
    "                                    \"Pitchers Gender\",\n",
    "                                    \"Pitchers City\",\n",
    "                                    \"Pitchers State\",\n",
    "                                    \"Industry\"]]\n",
    "\n",
    "pitcher_demo_df.head()"
   ]
  },
  {
   "cell_type": "code",
   "execution_count": null,
   "metadata": {},
   "outputs": [],
   "source": [
    "#change the multiple entrepreneurs column to boolean\n",
    "pitcher_demo_df[\"Multiple Entrepreneurs\"] = pitcher_demo_df[\"Multiple Entrepreneurs\"].astype('bool')\n",
    "\n",
    "pitcher_demo_df.head()"
   ]
  },
  {
   "cell_type": "code",
   "execution_count": null,
   "metadata": {},
   "outputs": [],
   "source": [
    "# replace any null values in the Entrepreneur Names, Gender, City, State Columns to \"unknown\"\n",
    "# sources: https://stackoverflow.com/questions/34913590/fillna-in-multiple-columns-in-place-in-python-pandas\n",
    "\n",
    "replace_na_strings = pitcher_demo_df.select_dtypes(object).columns\n",
    "pitcher_demo_df[replace_na_strings] = pitcher_demo_df[replace_na_strings].fillna(\"Unknown\")\n"
   ]
  },
  {
   "cell_type": "code",
   "execution_count": null,
   "metadata": {},
   "outputs": [],
   "source": [
    "# Create a \"Entrepreneur 1 Name\" and \"Entrepreneur 2 Name\" column with the first and last names from the \"name\" column. \n",
    "# Only split columns which have a comma, or an \"and\" to signify multiple pitchers\n",
    "# Code was generated with assistance from Bootcamp Spot Xpert Learning Assistant\n",
    "\n",
    "for index, row in pitcher_demo_df.iterrows():\n",
    "    if \",\" in row[\"Entrepreneur Names\"]:\n",
    "         names = row['Entrepreneur Names'].split(',')\n",
    "         pitcher_demo_df.at[index, 'Entrepreneur_1_Name'] = names[0]\n",
    "         pitcher_demo_df.at[index, 'Entrepreneur_2_Name'] = names[1] if len(names) > 1 else None\n",
    "\n",
    "    elif \"and\" in row[\"Entrepreneur Names\"]:\n",
    "         names = row['Entrepreneur Names'].split('and ')\n",
    "         pitcher_demo_df.at[index, 'Entrepreneur_1_Name'] = names[0]\n",
    "         pitcher_demo_df.at[index, 'Entrepreneur_2_Name'] = names[1] if len(names) > 1 else None\n",
    "\n",
    "    else: pitcher_demo_df.at[index, 'Entrepreneur_1_Name'] = pitcher_demo_df.at[index, 'Entrepreneur Names']\n",
    "\n",
    "\n",
    "pitcher_demo_df.head()"
   ]
  },
  {
   "cell_type": "code",
   "execution_count": null,
   "metadata": {},
   "outputs": [],
   "source": [
    "#fix any instances where multiple enterpreneurs column is incorrectly classified\n",
    "#Source: https://www.programiz.com/python-programming/pandas/handle-wrong-data\n",
    "\n",
    "for row in pitcher_demo_df.index:\n",
    "    multiple_check = pitcher_demo_df.loc[row, \"Entrepreneur_2_Name\"]\n",
    "    if pd.isnull(multiple_check):\n",
    "        pitcher_demo_df.loc[row, \"Multiple Entrepreneurs\"] = False\n",
    "    else: \n",
    "        pitcher_demo_df.loc[row, \"Multiple Entrepreneurs\"] = True\n",
    "\n",
    "pitcher_demo_df.fillna(\"none\", inplace=True)\n",
    "\n",
    "pitcher_demo_df.head()\n"
   ]
  },
  {
   "cell_type": "code",
   "execution_count": null,
   "metadata": {},
   "outputs": [],
   "source": [
    "#reorder columns\n",
    "pitcher_demo_df_cleaned = pitcher_demo_df[[\"Pitch Number\", \n",
    "                                   \"Multiple Entrepreneurs\", \n",
    "                                   \"Entrepreneur_1_Name\",\n",
    "                                   \"Entrepreneur_2_Name\",\n",
    "                                    \"Pitchers Gender\",\n",
    "                                    \"Pitchers City\",\n",
    "                                    \"Pitchers State\",\n",
    "                                    \"Industry\"]]\n",
    "\n",
    "#rename columns to simplify\n",
    "pitcher_demo_df_cleaned.rename(columns= {\"Pitch Number\":\"Pitch_Number\",\n",
    "                                         \"Multiple Entrepreneurs\": \"Multiple_Entrepreneurs\",\n",
    "                                         \"Pitchers Gender\":\"Gender\",\n",
    "                                         \"Pitchers City\": \"City\",\n",
    "                                         \"Pitchers State\": \"State\"}, inplace =True)\n",
    "\n",
    "pitcher_demo_df_cleaned.fillna(\"none\", inplace=True)\n",
    "\n",
    "pitcher_demo_df_cleaned.head()"
   ]
  },
  {
   "cell_type": "code",
   "execution_count": null,
   "metadata": {},
   "outputs": [],
   "source": [
    "#Check datatypes and null counts one last time before exporting to CSV\n",
    "\n",
    "pitcher_demo_df_cleaned.info()"
   ]
  },
  {
   "cell_type": "code",
   "execution_count": null,
   "metadata": {},
   "outputs": [],
   "source": [
    "pitcher_demo_df_cleaned.to_csv(\"pitch_demo.csv\", encoding = 'utf8', index=False)"
   ]
  },
  {
   "cell_type": "markdown",
   "metadata": {},
   "source": [
    "Pitchers Demographics Table (Data cleaning by Anna Bitzer)\n",
    "\n",
    "A subset of columns from the sharktank_df_clean dataset were used to create a Pitchers Demographics table. Several data cleaning steps were taken to transform and prepare the data for storage in a SQL database.\n",
    " -  The \"Multiple Entrepreneurs\" column datatype was switched to boolean.\n",
    " -  Null values in all string columns (name, gender, city, state, industry) were replaced with \"Unknown.\n",
    " -  The \"Entrepreneur Names\" column, which could contain multiple entrepreneurs, was split into new columns \"Entrepreneur 1 Name\" and \"Entrepreneur 2 Name\", splitting at a comma or the word \"and\". \n",
    " -  Some instances of the \"Multiple Entrepreneurs\" column were found to be incorrect. They were corrected using a conditional that checked if a second entrepreneur was present in the \"Entrepreneur 2 Name\" column.\n",
    " -  Finally, the columns were reorderd and some were renamed.\n",
    "\n",
    "The final dataframe was exported to csv, for upload into a SQL database with the other tables.\n",
    "\n",
    "Sources Used: \n",
    "https://stackoverflow.com/questions/34913590/fillna-in-multiple-columns-in-place-in-python-pandas, https://www.programiz.com/python-programming/pandas/handle-wrong-data, and BootcampSpot Xpert Learning Assistant for formatting itterows code to split names.\n",
    "\n"
   ]
  },
  {
   "cell_type": "markdown",
   "metadata": {},
   "source": [
    "Shark Demogrpahics Table Cleaning"
   ]
  },
  {
   "cell_type": "code",
   "execution_count": null,
   "metadata": {},
   "outputs": [],
   "source": [
    "# Sharks Demographic\n",
    "Shark_Name = sharktank_df_clean[\"Guest Name\"].dropna().unique()\n",
    "sharks_demographic_df = pd.DataFrame({'Shark_Name':Shark_Name})\n",
    "# sharks_demographic_df.index.name=\"Shark_ID\"\n",
    "sharks_demographic_df.reset_index(inplace=True)\n",
    "sharks_demographic_df = sharks_demographic_df.rename(columns={'index': 'Shark_ID'})\n",
    "\n",
    "# Data discrepancy: 26 Nirav Tolia; 27\tNirv Tolia\n",
    "sharks_demographic_df.loc[27, 'Shark_Name'] = \"Nirav Tolia\"\n",
    "sharks_demographic_df[\"Shark_Name\"].drop_duplicates()\n",
    "# Add index for shark demo table\n",
    "sharks_demographic_df['Shark_ID'] = range(1, len(sharks_demographic_df) + 1)\n",
    "\n",
    "sharks_demographic_df\n"
   ]
  },
  {
   "cell_type": "code",
   "execution_count": null,
   "metadata": {},
   "outputs": [],
   "source": [
    "# Adding externally sourced gender information to shark demo table:\n",
    "gender =  ['Male','Male','Male','Male','Male','Male','Male','Male','Male','Male','Male','Female','Female','Female','Male','Male','Male','Male','Female','Female','Female','Male','Female','Male','Female','Male','Female','Female','Male','Female','Male','Female','Male','Male']\n",
    "sharks_demographic_df['Gender'] = gender\n",
    "sharks_demographic_df"
   ]
  },
  {
   "cell_type": "markdown",
   "metadata": {},
   "source": [
    "Pitch Info Table Cleaning (Tianyue)"
   ]
  },
  {
   "cell_type": "code",
   "execution_count": null,
   "metadata": {},
   "outputs": [],
   "source": [
    "# Creating a dataframe for Deal Info:\n",
    "deal_df = sharktank_df_clean[[ 'Pitch Number','Got Deal','Total Deal Amount','Total Deal Equity','Original Offered Equity','Valuation Requested', 'Deal Valuation','Investment Amount Per Shark', 'Equity Per Shark','Number of Sharks in Deal', 'Barbara Corcoran Investment Amount',\n",
    "                    'Barbara Corcoran Investment Equity', 'Mark Cuban Investment Amount','Mark Cuban Investment Equity', 'Lori Greiner Investment Amount','Lori Greiner Investment Equity', \n",
    "                    'Robert Herjavec Investment Amount', 'Robert Herjavec Investment Equity','Daymond John Investment Amount','Daymond John Investment Equity', 'Kevin O Leary Investment Amount',\n",
    "                    'Kevin O Leary Investment Equity', 'Guest Investment Amount', 'Guest Investment Equity']]\n",
    " \n",
    "\n",
    "deal_df.columns = deal_df.columns.str.replace(' ', '_')\n",
    "deal_df['Deal_ID'] = range(1, len(deal_df) + 1)\n",
    "deal_df.head(20)\n"
   ]
  },
  {
   "cell_type": "code",
   "execution_count": null,
   "metadata": {},
   "outputs": [],
   "source": [
    "# Demonstrating database characteristics: Shark investment amount, equity columns contain a significant amount of NaN values that required transposing\n",
    "deal_df.count()\n",
    "deal_df.dropna().count()"
   ]
  },
  {
   "cell_type": "code",
   "execution_count": null,
   "metadata": {},
   "outputs": [],
   "source": [
    "numeric_columns = deal_df.select_dtypes(include=['float64', 'int64'])\n",
    "deal_df[numeric_columns.columns] = numeric_columns.fillna(0)\n",
    "deal_df.head()\n"
   ]
  },
  {
   "cell_type": "code",
   "execution_count": null,
   "metadata": {},
   "outputs": [],
   "source": [
    "#Creating a dataframe for Pitch Info: \n",
    "pitch_df= sharktank_df_clean[['Pitch Number', 'Episode Number', 'Season Number','Business Description', 'Got Deal']]\n",
    "pitch_df.columns = pitch_df.columns.str.replace(' ', '_')\n",
    "\n",
    "pitch_df.fillna(\"none\", inplace=True)\n",
    "pitch_df.head()"
   ]
  },
  {
   "cell_type": "code",
   "execution_count": null,
   "metadata": {},
   "outputs": [],
   "source": [
    "# Data use case 1: Filter for successful deals and merge with \"Pitch_df\" to create visualizations\n",
    "# Ex. Use Pitch_Number, Total_Deal_Amount, Total_Deal_Equity, Industry\n",
    "deal_y_df = deal_df[deal_df['Got_Deal']==True]\n",
    "deal_y_df\n",
    "\n",
    "\n",
    "pitch_deal_merge_df = pd.merge(deal_y_df, pitcher_demo_df_cleaned, on=\"Pitch_Number\", how=\"outer\")\n",
    "pitch_deal_merge_df"
   ]
  },
  {
   "cell_type": "code",
   "execution_count": null,
   "metadata": {},
   "outputs": [],
   "source": [
    "# Data use case 2: Merge pitcher table and deal table to analyze industry trend\n",
    "import matplotlib.pyplot as plt\n",
    "\n",
    "industry_df = pitch_deal_merge_df[['Industry', 'Pitch_Number']]\n",
    "industry_df\n",
    "industry_count_df = industry_df.groupby('Industry').count()\n",
    "industry_count_df\n",
    "industry_count_df = industry_df['Industry'].value_counts()\n",
    "industry_count_df.plot(kind='pie', figsize=(8, 8), autopct='%1.1f%%', startangle=160)\n",
    "\n",
    "plt.xlabel(\"Industry\")\n",
    "plt.ylabel(\"Count of Pitches\")\n",
    "plt.title(\"Invested Pitches by Industry\")\n",
    "plt.show()"
   ]
  },
  {
   "cell_type": "code",
   "execution_count": null,
   "metadata": {},
   "outputs": [],
   "source": [
    "# Data use Case 3: Merge pitcher table and deal table to analyze gender factors\n",
    "import matplotlib.pyplot as plt\n",
    "\n",
    "industry_df = pitch_deal_merge_df[['Gender', 'Pitch_Number']]\n",
    "industry_df\n",
    "industry_count_df = industry_df.groupby('Gender').count()\n",
    "industry_count_df\n",
    "# industry_df.plot(kind='pie', figsize=(8,8), autopct='%1.1f%%')\n",
    "industry_count_df = industry_df['Gender'].value_counts()\n",
    "industry_count_df.plot(kind='pie', figsize=(8, 8), autopct='%1.1f%%', startangle=160)\n",
    "\n",
    "plt.xlabel(\"Industry\")\n",
    "plt.ylabel(\"Count of Gender\")\n",
    "plt.title(\"Invested Pitches by Gender\")\n",
    "plt.show()"
   ]
  },
  {
   "cell_type": "code",
   "execution_count": null,
   "metadata": {},
   "outputs": [],
   "source": [
    "# Data use case 4: Demonstrate each shark's top 10 investments and pitch numbers\n",
    "pitch_deal_merge_df.Barbara_Corcoran_Investment_Equity.dropna().sort_values(ascending=False)[:10].plot.bar(figsize=[16,4],rot=90)\n",
    "plt.xlabel(\"Pitch Number\")\n",
    "plt.ylabel(\"Equity %\")\n",
    "plt.title(\"Barbara's Top 10 Investment in Equity\")\n",
    "plt.show()\n",
    "\n",
    "pitch_deal_merge_df.Mark_Cuban_Investment_Equity.dropna().sort_values(ascending=False)[:10].plot.bar(figsize=[16,4],rot=90)\n",
    "plt.xlabel(\"Pitch Number\")\n",
    "plt.ylabel(\"Equity %\")\n",
    "plt.title(\"Mark Cuban's Top 10 Equity Investment\")\n",
    "plt.show()"
   ]
  },
  {
   "cell_type": "code",
   "execution_count": null,
   "metadata": {},
   "outputs": [],
   "source": [
    "# Data use Case #5: Shark table to evaluate sharks' gender impact on pitch success\n",
    "gender_counts = sharks_demographic_df['Gender'].value_counts()\n",
    "gender_counts\n",
    "# # Create a pie chart based on the count of genders\n",
    "\n",
    "plt.figure(figsize=(8, 8))\n",
    "gender_counts.plot(kind='pie', figsize=(8, 8), autopct='%1.1f%%', startangle=160)\n",
    "plt.xlabel(\"Industry\")\n",
    "plt.ylabel(\"Count of Gender\")\n",
    "plt.title(\"Invested Pitches by Gender\")\n",
    "plt.show()\n",
    "\n",
    "# Demo purpose only: print out sharks' gender counts: Male vs Female\n",
    "sharks_demographic_df[sharks_demographic_df['Gender'] == 'Male'].count()\n",
    "sharks_demographic_df[sharks_demographic_df['Gender'] == 'Female'].count()\n"
   ]
  },
  {
   "cell_type": "code",
   "execution_count": null,
   "metadata": {},
   "outputs": [],
   "source": [
    "# CSV Exporting code (Only run when exporting)\n",
    "deal_df.to_csv(\"deal_df.csv\", index=False)"
   ]
  },
  {
   "cell_type": "code",
   "execution_count": null,
   "metadata": {},
   "outputs": [],
   "source": [
    "# CSV Exporting code (Only run when exporting)\n",
    "pitch_df.to_csv(\"pitch_df.csv\", index=False)\n"
   ]
  },
  {
   "cell_type": "code",
   "execution_count": null,
   "metadata": {},
   "outputs": [],
   "source": []
  },
  {
   "cell_type": "code",
   "execution_count": null,
   "metadata": {},
   "outputs": [],
   "source": []
  },
  {
   "cell_type": "code",
   "execution_count": null,
   "metadata": {},
   "outputs": [],
   "source": []
  },
  {
   "cell_type": "code",
   "execution_count": null,
   "metadata": {},
   "outputs": [],
   "source": []
  },
  {
   "cell_type": "code",
   "execution_count": null,
   "metadata": {},
   "outputs": [],
   "source": []
  },
  {
   "cell_type": "code",
   "execution_count": null,
   "metadata": {},
   "outputs": [],
   "source": []
  },
  {
   "cell_type": "code",
   "execution_count": null,
   "metadata": {},
   "outputs": [],
   "source": []
  }
 ],
 "metadata": {
  "kernelspec": {
   "display_name": "dev",
   "language": "python",
   "name": "python3"
  },
  "language_info": {
   "codemirror_mode": {
    "name": "ipython",
    "version": 3
   },
   "file_extension": ".py",
   "mimetype": "text/x-python",
   "name": "python",
   "nbconvert_exporter": "python",
   "pygments_lexer": "ipython3",
   "version": "3.10.13"
  }
 },
 "nbformat": 4,
 "nbformat_minor": 2
}
